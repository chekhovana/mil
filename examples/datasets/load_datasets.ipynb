{
 "cells": [
  {
   "cell_type": "code",
   "execution_count": 1,
   "metadata": {
    "pycharm": {
     "name": "#%%\n"
    }
   },
   "outputs": [],
   "source": [
    "from mil.data.datasets import musk1, musk2, protein, elephant, corel_dogs, \\\n",
    "                              ucsb_breast_cancer, web_recommendation_1, birds_brown_creeper, \\\n",
    "                              mnist_bags\n",
    "\n",
    "import numpy as np"
   ]
  },
  {
   "cell_type": "code",
   "execution_count": 2,
   "metadata": {
    "pycharm": {
     "name": "#%%\n"
    }
   },
   "outputs": [
    {
     "name": "stdout",
     "output_type": "stream",
     "text": [
      "73 73\n",
      "19 19\n",
      "(array([0, 1], dtype=int64), array([37, 36], dtype=int64))\n",
      "(array([0, 1], dtype=int64), array([ 8, 11], dtype=int64))\n"
     ]
    }
   ],
   "source": [
    "(x_train, y_train), (x_test, y_test) = musk1.load()\n",
    "\n",
    "print(len(y_train), len(x_train))\n",
    "print(len(y_test), len(x_test))\n",
    "\n",
    "print(np.unique(y_train, return_counts=True))\n",
    "print(np.unique(y_test, return_counts=True))"
   ]
  },
  {
   "cell_type": "code",
   "execution_count": 3,
   "metadata": {
    "pycharm": {
     "name": "#%%\n"
    }
   },
   "outputs": [
    {
     "name": "stdout",
     "output_type": "stream",
     "text": [
      "81 81\n",
      "21 21\n",
      "(array([0, 1], dtype=int64), array([52, 29], dtype=int64))\n",
      "(array([0, 1], dtype=int64), array([11, 10], dtype=int64))\n"
     ]
    }
   ],
   "source": [
    "(x_train, y_train), (x_test, y_test) = musk2.load()\n",
    "\n",
    "print(len(y_train), len(x_train))\n",
    "print(len(y_test), len(x_test))\n",
    "\n",
    "print(np.unique(y_train, return_counts=True))\n",
    "print(np.unique(y_test, return_counts=True))"
   ]
  },
  {
   "cell_type": "code",
   "execution_count": 4,
   "metadata": {
    "pycharm": {
     "name": "#%%\n"
    }
   },
   "outputs": [
    {
     "name": "stdout",
     "output_type": "stream",
     "text": [
      "154 154\n",
      "39 39\n",
      "(array([0, 1], dtype=int64), array([134,  20], dtype=int64))\n",
      "(array([0, 1], dtype=int64), array([34,  5], dtype=int64))\n"
     ]
    }
   ],
   "source": [
    "(x_train, y_train), (x_test, y_test) = protein.load()\n",
    "\n",
    "print(len(y_train), len(x_train))\n",
    "print(len(y_test), len(x_test))\n",
    "\n",
    "print(np.unique(y_train, return_counts=True))\n",
    "print(np.unique(y_test, return_counts=True))"
   ]
  },
  {
   "cell_type": "code",
   "execution_count": 5,
   "metadata": {
    "pycharm": {
     "name": "#%%\n"
    }
   },
   "outputs": [
    {
     "name": "stdout",
     "output_type": "stream",
     "text": [
      "160 160\n",
      "40 40\n",
      "(array([0, 1], dtype=int64), array([78, 82], dtype=int64))\n",
      "(array([0, 1], dtype=int64), array([22, 18], dtype=int64))\n"
     ]
    }
   ],
   "source": [
    "(x_train, y_train), (x_test, y_test) = elephant.load()\n",
    "\n",
    "print(len(y_train), len(x_train))\n",
    "print(len(y_test), len(x_test))\n",
    "\n",
    "print(np.unique(y_train, return_counts=True))\n",
    "print(np.unique(y_test, return_counts=True))"
   ]
  },
  {
   "cell_type": "code",
   "execution_count": 6,
   "metadata": {
    "pycharm": {
     "name": "#%%\n"
    }
   },
   "outputs": [
    {
     "name": "stdout",
     "output_type": "stream",
     "text": [
      "1600 1600\n",
      "400 400\n",
      "(array([0, 1], dtype=int64), array([1528,   72], dtype=int64))\n",
      "(array([0, 1], dtype=int64), array([372,  28], dtype=int64))\n"
     ]
    }
   ],
   "source": [
    "(x_train, y_train), (x_test, y_test) = corel_dogs.load()\n",
    "\n",
    "print(len(y_train), len(x_train))\n",
    "print(len(y_test), len(x_test))\n",
    "\n",
    "print(np.unique(y_train, return_counts=True))\n",
    "print(np.unique(y_test, return_counts=True))"
   ]
  },
  {
   "cell_type": "code",
   "execution_count": 7,
   "metadata": {
    "pycharm": {
     "name": "#%%\n"
    }
   },
   "outputs": [
    {
     "name": "stdout",
     "output_type": "stream",
     "text": [
      "46 46\n",
      "12 12\n",
      "(array([0, 1], dtype=int64), array([25, 21], dtype=int64))\n",
      "(array([0, 1], dtype=int64), array([7, 5], dtype=int64))\n"
     ]
    }
   ],
   "source": [
    "(x_train, y_train), (x_test, y_test) = ucsb_breast_cancer.load()\n",
    "\n",
    "print(len(y_train), len(x_train))\n",
    "print(len(y_test), len(x_test))\n",
    "\n",
    "print(np.unique(y_train, return_counts=True))\n",
    "print(np.unique(y_test, return_counts=True))"
   ]
  },
  {
   "cell_type": "code",
   "execution_count": 8,
   "metadata": {
    "pycharm": {
     "name": "#%%\n"
    }
   },
   "outputs": [
    {
     "name": "stdout",
     "output_type": "stream",
     "text": [
      "60 60\n",
      "15 15\n",
      "(array([0, 1], dtype=int64), array([40, 20], dtype=int64))\n",
      "(array([0, 1], dtype=int64), array([14,  1], dtype=int64))\n"
     ]
    }
   ],
   "source": [
    "(x_train, y_train), (x_test, y_test) = web_recommendation_1.load()\n",
    "\n",
    "print(len(y_train), len(x_train))\n",
    "print(len(y_test), len(x_test))\n",
    "\n",
    "print(np.unique(y_train, return_counts=True))\n",
    "print(np.unique(y_test, return_counts=True))"
   ]
  },
  {
   "cell_type": "code",
   "execution_count": 9,
   "metadata": {
    "pycharm": {
     "name": "#%%\n"
    }
   },
   "outputs": [
    {
     "name": "stdout",
     "output_type": "stream",
     "text": [
      "438 438\n",
      "110 110\n",
      "(array([0, 1], dtype=int64), array([277, 161], dtype=int64))\n",
      "(array([0, 1], dtype=int64), array([74, 36], dtype=int64))\n"
     ]
    }
   ],
   "source": [
    "(x_train, y_train), (x_test, y_test) = birds_brown_creeper.load()\n",
    "\n",
    "print(len(y_train), len(x_train))\n",
    "print(len(y_test), len(x_test))\n",
    "\n",
    "print(np.unique(y_train, return_counts=True))\n",
    "print(np.unique(y_test, return_counts=True))"
   ]
  },
  {
   "cell_type": "markdown",
   "metadata": {
    "pycharm": {
     "name": "#%% md\n"
    }
   },
   "source": [
    "# MNIST Bags"
   ]
  },
  {
   "cell_type": "code",
   "execution_count": 10,
   "metadata": {
    "pycharm": {
     "name": "#%%\n"
    }
   },
   "outputs": [
    {
     "name": "stdout",
     "output_type": "stream",
     "text": [
      "200 200\n",
      "100 100\n",
      "(array([0, 1]), array([ 72, 128], dtype=int64))\n",
      "(array([0, 1]), array([30, 70], dtype=int64))\n"
     ]
    }
   ],
   "source": [
    "(x_train, y_train, y_train_instances), (x_test, y_test, y_test_instances)  = mnist_bags.load()\n",
    "\n",
    "print(len(y_train), len(x_train))\n",
    "print(len(y_test), len(x_test))\n",
    "\n",
    "print(np.unique(y_train, return_counts=True))\n",
    "print(np.unique(y_test, return_counts=True))"
   ]
  },
  {
   "cell_type": "code",
   "execution_count": 11,
   "metadata": {
    "pycharm": {
     "name": "#%%\n"
    }
   },
   "outputs": [
    {
     "name": "stdout",
     "output_type": "stream",
     "text": [
      "200 200\n",
      "100 100\n",
      "(array([0, 1]), array([173,  27], dtype=int64))\n",
      "(array([0, 1]), array([78, 22], dtype=int64))\n"
     ]
    }
   ],
   "source": [
    "(x_train, y_train, y_train_instances), (x_test, y_test, y_test_instances)  = mnist_bags.load_42()\n",
    "\n",
    "print(len(y_train), len(x_train))\n",
    "print(len(y_test), len(x_test))\n",
    "\n",
    "print(np.unique(y_train, return_counts=True))\n",
    "print(np.unique(y_test, return_counts=True))"
   ]
  },
  {
   "cell_type": "code",
   "execution_count": 12,
   "metadata": {
    "pycharm": {
     "name": "#%%\n"
    }
   },
   "outputs": [
    {
     "name": "stdout",
     "output_type": "stream",
     "text": [
      "200 200\n",
      "100 100\n",
      "(array([0, 1]), array([ 83, 117], dtype=int64))\n",
      "(array([0, 1]), array([36, 64], dtype=int64))\n"
     ]
    }
   ],
   "source": [
    "(x_train, y_train, y_train_instances), (x_test, y_test, y_test_instances)  = mnist_bags.load_2_and_3()\n",
    "\n",
    "print(len(y_train), len(x_train))\n",
    "print(len(y_test), len(x_test))\n",
    "\n",
    "print(np.unique(y_train, return_counts=True))\n",
    "print(np.unique(y_test, return_counts=True))"
   ]
  }
 ],
 "metadata": {
  "kernelspec": {
   "display_name": "Python 3",
   "language": "python",
   "name": "python3"
  },
  "language_info": {
   "codemirror_mode": {
    "name": "ipython",
    "version": 3
   },
   "file_extension": ".py",
   "mimetype": "text/x-python",
   "name": "python",
   "nbconvert_exporter": "python",
   "pygments_lexer": "ipython3",
   "version": "3.7.6"
  }
 },
 "nbformat": 4,
 "nbformat_minor": 4
}